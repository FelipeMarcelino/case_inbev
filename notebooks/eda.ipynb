{
 "cells": [
  {
   "cell_type": "markdown",
   "id": "e2043229-ce88-41ae-ba1c-5fb9cc00f02a",
   "metadata": {},
   "source": [
    "# Order Prediction - EDA"
   ]
  },
  {
   "cell_type": "markdown",
   "id": "fab5cc9f-2b01-48f8-ba5d-f71dba8e954b",
   "metadata": {},
   "source": [
    "\n",
    "## Conclusions\n",
    "- Can have more than one order per day\n",
    "- In the *missing_order_days* file, there is some users without missing **transaction_amount** and **order_date**\n",
    "- There isnt partially missing null for **transaction_amount** and **order_date**\n",
    "- NAN only occurs one time per id on missing file "
   ]
  },
  {
   "cell_type": "markdown",
   "id": "23558d94-b352-4e81-80bf-0017257403ec",
   "metadata": {},
   "source": [
    "# Imports"
   ]
  },
  {
   "cell_type": "code",
   "execution_count": 1,
   "id": "57b96c29-2087-4881-a4a7-40a64d076df3",
   "metadata": {},
   "outputs": [],
   "source": [
    "import pandas as pd"
   ]
  },
  {
   "cell_type": "markdown",
   "id": "12897a1a-daa1-4ef8-a418-d03a9f0754f3",
   "metadata": {},
   "source": [
    "# Parameters"
   ]
  },
  {
   "cell_type": "markdown",
   "id": "5ce40873-279d-41ed-a7a7-f6b43054ffb8",
   "metadata": {},
   "source": [
    "# Definitions"
   ]
  },
  {
   "cell_type": "code",
   "execution_count": 18,
   "id": "a3e59cf1-fb08-489d-96ba-e2bbc10bcb7c",
   "metadata": {},
   "outputs": [],
   "source": [
    "def find_users_with_partial_null(df, user_column, target_column):\n",
    "    # Group by user_id\n",
    "    grouped = df.groupby(user_column)\n",
    "\n",
    "    for user_id, group in grouped:\n",
    "        # Check if there are both NaN and non-NaN values in the target column\n",
    "        if group[target_column].isnull().any() and group[target_column].notnull().any():\n",
    "            return group  # Return the first group that satisfies the condition"
   ]
  },
  {
   "cell_type": "markdown",
   "id": "e0be6782-d0fe-4535-8b60-417ad26e5f68",
   "metadata": {},
   "source": [
    "# Explore "
   ]
  },
  {
   "cell_type": "code",
   "execution_count": 9,
   "id": "b64cc7e7-97fb-45d8-a296-89b44f07ceb6",
   "metadata": {},
   "outputs": [],
   "source": [
    "historical = pd.read_parquet(\"../datasets/historical_orders.parquet\")\n",
    "missing_orders = pd.read_parquet(\"../datasets/august_with_missing_order_days.parquet\")\n",
    "total_sales = pd.read_parquet(\"../datasets/august_total_sales.parquet\")"
   ]
  },
  {
   "cell_type": "code",
   "execution_count": 8,
   "id": "175f2dfb-d85f-4332-bb2e-a0a56ae5ea19",
   "metadata": {},
   "outputs": [
    {
     "data": {
      "text/html": [
       "<div>\n",
       "<style scoped>\n",
       "    .dataframe tbody tr th:only-of-type {\n",
       "        vertical-align: middle;\n",
       "    }\n",
       "\n",
       "    .dataframe tbody tr th {\n",
       "        vertical-align: top;\n",
       "    }\n",
       "\n",
       "    .dataframe thead th {\n",
       "        text-align: right;\n",
       "    }\n",
       "</style>\n",
       "<table border=\"1\" class=\"dataframe\">\n",
       "  <thead>\n",
       "    <tr style=\"text-align: right;\">\n",
       "      <th></th>\n",
       "      <th>account_id</th>\n",
       "      <th>order_date</th>\n",
       "      <th>transaction_amount</th>\n",
       "    </tr>\n",
       "  </thead>\n",
       "  <tbody>\n",
       "    <tr>\n",
       "      <th>0</th>\n",
       "      <td>BR_09607801000194</td>\n",
       "      <td>2021-08-28</td>\n",
       "      <td>11011.20</td>\n",
       "    </tr>\n",
       "    <tr>\n",
       "      <th>1</th>\n",
       "      <td>BR_09607801000194</td>\n",
       "      <td>2021-08-28</td>\n",
       "      <td>13764.00</td>\n",
       "    </tr>\n",
       "    <tr>\n",
       "      <th>2</th>\n",
       "      <td>BR_09607801000194</td>\n",
       "      <td>2021-08-28</td>\n",
       "      <td>11011.20</td>\n",
       "    </tr>\n",
       "    <tr>\n",
       "      <th>3</th>\n",
       "      <td>BR_09607801000194</td>\n",
       "      <td>2021-08-28</td>\n",
       "      <td>11011.20</td>\n",
       "    </tr>\n",
       "    <tr>\n",
       "      <th>4</th>\n",
       "      <td>BR_09607801000194</td>\n",
       "      <td>2021-08-28</td>\n",
       "      <td>13764.00</td>\n",
       "    </tr>\n",
       "    <tr>\n",
       "      <th>5</th>\n",
       "      <td>BR_09607801000194</td>\n",
       "      <td>2021-08-28</td>\n",
       "      <td>13764.00</td>\n",
       "    </tr>\n",
       "    <tr>\n",
       "      <th>6</th>\n",
       "      <td>BR_00481601562</td>\n",
       "      <td>2022-06-18</td>\n",
       "      <td>1017.00</td>\n",
       "    </tr>\n",
       "    <tr>\n",
       "      <th>7</th>\n",
       "      <td>BR_00481601562</td>\n",
       "      <td>2022-06-18</td>\n",
       "      <td>244.20</td>\n",
       "    </tr>\n",
       "    <tr>\n",
       "      <th>8</th>\n",
       "      <td>BR_00481601562</td>\n",
       "      <td>2022-06-18</td>\n",
       "      <td>23.00</td>\n",
       "    </tr>\n",
       "    <tr>\n",
       "      <th>9</th>\n",
       "      <td>BR_00481601562</td>\n",
       "      <td>2022-06-18</td>\n",
       "      <td>42.92</td>\n",
       "    </tr>\n",
       "  </tbody>\n",
       "</table>\n",
       "</div>"
      ],
      "text/plain": [
       "          account_id  order_date  transaction_amount\n",
       "0  BR_09607801000194  2021-08-28            11011.20\n",
       "1  BR_09607801000194  2021-08-28            13764.00\n",
       "2  BR_09607801000194  2021-08-28            11011.20\n",
       "3  BR_09607801000194  2021-08-28            11011.20\n",
       "4  BR_09607801000194  2021-08-28            13764.00\n",
       "5  BR_09607801000194  2021-08-28            13764.00\n",
       "6     BR_00481601562  2022-06-18             1017.00\n",
       "7     BR_00481601562  2022-06-18              244.20\n",
       "8     BR_00481601562  2022-06-18               23.00\n",
       "9     BR_00481601562  2022-06-18               42.92"
      ]
     },
     "execution_count": 8,
     "metadata": {},
     "output_type": "execute_result"
    }
   ],
   "source": [
    "historical.head(10)"
   ]
  },
  {
   "cell_type": "code",
   "execution_count": 7,
   "id": "5641ce12-5ba3-4c01-9c76-4b9baa5bd993",
   "metadata": {},
   "outputs": [
    {
     "data": {
      "text/html": [
       "<div>\n",
       "<style scoped>\n",
       "    .dataframe tbody tr th:only-of-type {\n",
       "        vertical-align: middle;\n",
       "    }\n",
       "\n",
       "    .dataframe tbody tr th {\n",
       "        vertical-align: top;\n",
       "    }\n",
       "\n",
       "    .dataframe thead th {\n",
       "        text-align: right;\n",
       "    }\n",
       "</style>\n",
       "<table border=\"1\" class=\"dataframe\">\n",
       "  <thead>\n",
       "    <tr style=\"text-align: right;\">\n",
       "      <th></th>\n",
       "      <th>account_id</th>\n",
       "      <th>order_date</th>\n",
       "      <th>transaction_amount</th>\n",
       "    </tr>\n",
       "  </thead>\n",
       "  <tbody>\n",
       "    <tr>\n",
       "      <th>0</th>\n",
       "      <td>BR_09532176632</td>\n",
       "      <td>2022-08-03</td>\n",
       "      <td>11.16</td>\n",
       "    </tr>\n",
       "    <tr>\n",
       "      <th>1</th>\n",
       "      <td>BR_09532176632</td>\n",
       "      <td>2022-08-03</td>\n",
       "      <td>32.52</td>\n",
       "    </tr>\n",
       "    <tr>\n",
       "      <th>2</th>\n",
       "      <td>BR_09532176632</td>\n",
       "      <td>2022-08-03</td>\n",
       "      <td>24.90</td>\n",
       "    </tr>\n",
       "    <tr>\n",
       "      <th>3</th>\n",
       "      <td>BR_09532176632</td>\n",
       "      <td>2022-08-03</td>\n",
       "      <td>28.50</td>\n",
       "    </tr>\n",
       "    <tr>\n",
       "      <th>4</th>\n",
       "      <td>BR_09532176632</td>\n",
       "      <td>2022-08-03</td>\n",
       "      <td>11.16</td>\n",
       "    </tr>\n",
       "    <tr>\n",
       "      <th>5</th>\n",
       "      <td>BR_09532176632</td>\n",
       "      <td>2022-08-03</td>\n",
       "      <td>11.16</td>\n",
       "    </tr>\n",
       "    <tr>\n",
       "      <th>6</th>\n",
       "      <td>BR_09532176632</td>\n",
       "      <td>2022-08-03</td>\n",
       "      <td>11.16</td>\n",
       "    </tr>\n",
       "    <tr>\n",
       "      <th>7</th>\n",
       "      <td>BR_09532176632</td>\n",
       "      <td>2022-08-03</td>\n",
       "      <td>24.90</td>\n",
       "    </tr>\n",
       "    <tr>\n",
       "      <th>8</th>\n",
       "      <td>BR_09532176632</td>\n",
       "      <td>2022-08-04</td>\n",
       "      <td>65.90</td>\n",
       "    </tr>\n",
       "    <tr>\n",
       "      <th>9</th>\n",
       "      <td>BR_09532176632</td>\n",
       "      <td>2022-08-04</td>\n",
       "      <td>65.90</td>\n",
       "    </tr>\n",
       "  </tbody>\n",
       "</table>\n",
       "</div>"
      ],
      "text/plain": [
       "       account_id  order_date  transaction_amount\n",
       "0  BR_09532176632  2022-08-03               11.16\n",
       "1  BR_09532176632  2022-08-03               32.52\n",
       "2  BR_09532176632  2022-08-03               24.90\n",
       "3  BR_09532176632  2022-08-03               28.50\n",
       "4  BR_09532176632  2022-08-03               11.16\n",
       "5  BR_09532176632  2022-08-03               11.16\n",
       "6  BR_09532176632  2022-08-03               11.16\n",
       "7  BR_09532176632  2022-08-03               24.90\n",
       "8  BR_09532176632  2022-08-04               65.90\n",
       "9  BR_09532176632  2022-08-04               65.90"
      ]
     },
     "execution_count": 7,
     "metadata": {},
     "output_type": "execute_result"
    }
   ],
   "source": [
    "missing_orders.head(10)"
   ]
  },
  {
   "cell_type": "code",
   "execution_count": 10,
   "id": "87ed5815-a1d8-415e-bffa-51d5bbf15403",
   "metadata": {},
   "outputs": [
    {
     "data": {
      "text/html": [
       "<div>\n",
       "<style scoped>\n",
       "    .dataframe tbody tr th:only-of-type {\n",
       "        vertical-align: middle;\n",
       "    }\n",
       "\n",
       "    .dataframe tbody tr th {\n",
       "        vertical-align: top;\n",
       "    }\n",
       "\n",
       "    .dataframe thead th {\n",
       "        text-align: right;\n",
       "    }\n",
       "</style>\n",
       "<table border=\"1\" class=\"dataframe\">\n",
       "  <thead>\n",
       "    <tr style=\"text-align: right;\">\n",
       "      <th></th>\n",
       "      <th>account_id</th>\n",
       "      <th>total_transaction_amount_august</th>\n",
       "    </tr>\n",
       "  </thead>\n",
       "  <tbody>\n",
       "    <tr>\n",
       "      <th>0</th>\n",
       "      <td>BR_00000343803</td>\n",
       "      <td>309.99</td>\n",
       "    </tr>\n",
       "    <tr>\n",
       "      <th>1</th>\n",
       "      <td>BR_00001415930</td>\n",
       "      <td>874.98</td>\n",
       "    </tr>\n",
       "    <tr>\n",
       "      <th>2</th>\n",
       "      <td>BR_00001760106</td>\n",
       "      <td>11976.70</td>\n",
       "    </tr>\n",
       "    <tr>\n",
       "      <th>3</th>\n",
       "      <td>BR_00002485176</td>\n",
       "      <td>511.48</td>\n",
       "    </tr>\n",
       "    <tr>\n",
       "      <th>4</th>\n",
       "      <td>BR_00002536340</td>\n",
       "      <td>7081.14</td>\n",
       "    </tr>\n",
       "    <tr>\n",
       "      <th>5</th>\n",
       "      <td>BR_00003056503</td>\n",
       "      <td>105.36</td>\n",
       "    </tr>\n",
       "    <tr>\n",
       "      <th>6</th>\n",
       "      <td>BR_00003686108</td>\n",
       "      <td>137.18</td>\n",
       "    </tr>\n",
       "    <tr>\n",
       "      <th>7</th>\n",
       "      <td>BR_00005396352</td>\n",
       "      <td>21205.47</td>\n",
       "    </tr>\n",
       "    <tr>\n",
       "      <th>8</th>\n",
       "      <td>BR_00009144366</td>\n",
       "      <td>1711.22</td>\n",
       "    </tr>\n",
       "    <tr>\n",
       "      <th>9</th>\n",
       "      <td>BR_00012291000138</td>\n",
       "      <td>212.60</td>\n",
       "    </tr>\n",
       "  </tbody>\n",
       "</table>\n",
       "</div>"
      ],
      "text/plain": [
       "          account_id  total_transaction_amount_august\n",
       "0     BR_00000343803                           309.99\n",
       "1     BR_00001415930                           874.98\n",
       "2     BR_00001760106                         11976.70\n",
       "3     BR_00002485176                           511.48\n",
       "4     BR_00002536340                          7081.14\n",
       "5     BR_00003056503                           105.36\n",
       "6     BR_00003686108                           137.18\n",
       "7     BR_00005396352                         21205.47\n",
       "8     BR_00009144366                          1711.22\n",
       "9  BR_00012291000138                           212.60"
      ]
     },
     "execution_count": 10,
     "metadata": {},
     "output_type": "execute_result"
    }
   ],
   "source": [
    "total_sales.head(10)"
   ]
  },
  {
   "cell_type": "code",
   "execution_count": 12,
   "id": "f91335f6-c643-4399-baa4-bb7dfcf6c930",
   "metadata": {},
   "outputs": [
    {
     "data": {
      "text/html": [
       "<div>\n",
       "<style scoped>\n",
       "    .dataframe tbody tr th:only-of-type {\n",
       "        vertical-align: middle;\n",
       "    }\n",
       "\n",
       "    .dataframe tbody tr th {\n",
       "        vertical-align: top;\n",
       "    }\n",
       "\n",
       "    .dataframe thead th {\n",
       "        text-align: right;\n",
       "    }\n",
       "</style>\n",
       "<table border=\"1\" class=\"dataframe\">\n",
       "  <thead>\n",
       "    <tr style=\"text-align: right;\">\n",
       "      <th></th>\n",
       "      <th>account_id</th>\n",
       "      <th>order_date</th>\n",
       "      <th>transaction_amount</th>\n",
       "    </tr>\n",
       "  </thead>\n",
       "  <tbody>\n",
       "    <tr>\n",
       "      <th>76</th>\n",
       "      <td>BR_66209644000100</td>\n",
       "      <td>None</td>\n",
       "      <td>NaN</td>\n",
       "    </tr>\n",
       "    <tr>\n",
       "      <th>113</th>\n",
       "      <td>BR_04185749287</td>\n",
       "      <td>None</td>\n",
       "      <td>NaN</td>\n",
       "    </tr>\n",
       "    <tr>\n",
       "      <th>114</th>\n",
       "      <td>BR_21110581220</td>\n",
       "      <td>None</td>\n",
       "      <td>NaN</td>\n",
       "    </tr>\n",
       "    <tr>\n",
       "      <th>126</th>\n",
       "      <td>BR_10296303000157</td>\n",
       "      <td>None</td>\n",
       "      <td>NaN</td>\n",
       "    </tr>\n",
       "    <tr>\n",
       "      <th>127</th>\n",
       "      <td>BR_06863137000156</td>\n",
       "      <td>None</td>\n",
       "      <td>NaN</td>\n",
       "    </tr>\n",
       "    <tr>\n",
       "      <th>256</th>\n",
       "      <td>BR_23982071615</td>\n",
       "      <td>None</td>\n",
       "      <td>NaN</td>\n",
       "    </tr>\n",
       "    <tr>\n",
       "      <th>435</th>\n",
       "      <td>BR_96388820344</td>\n",
       "      <td>None</td>\n",
       "      <td>NaN</td>\n",
       "    </tr>\n",
       "    <tr>\n",
       "      <th>439</th>\n",
       "      <td>BR_39599024000144</td>\n",
       "      <td>None</td>\n",
       "      <td>NaN</td>\n",
       "    </tr>\n",
       "    <tr>\n",
       "      <th>483</th>\n",
       "      <td>BR_06320579390</td>\n",
       "      <td>None</td>\n",
       "      <td>NaN</td>\n",
       "    </tr>\n",
       "    <tr>\n",
       "      <th>484</th>\n",
       "      <td>BR_17128960678</td>\n",
       "      <td>None</td>\n",
       "      <td>NaN</td>\n",
       "    </tr>\n",
       "  </tbody>\n",
       "</table>\n",
       "</div>"
      ],
      "text/plain": [
       "            account_id order_date  transaction_amount\n",
       "76   BR_66209644000100       None                 NaN\n",
       "113     BR_04185749287       None                 NaN\n",
       "114     BR_21110581220       None                 NaN\n",
       "126  BR_10296303000157       None                 NaN\n",
       "127  BR_06863137000156       None                 NaN\n",
       "256     BR_23982071615       None                 NaN\n",
       "435     BR_96388820344       None                 NaN\n",
       "439  BR_39599024000144       None                 NaN\n",
       "483     BR_06320579390       None                 NaN\n",
       "484     BR_17128960678       None                 NaN"
      ]
     },
     "execution_count": 12,
     "metadata": {},
     "output_type": "execute_result"
    }
   ],
   "source": [
    "missing_orders[missing_orders[\"transaction_amount\"].isna()].head(10)"
   ]
  },
  {
   "cell_type": "code",
   "execution_count": 36,
   "id": "e8c36fdd-27bf-4a59-bf14-f8452b88ae03",
   "metadata": {},
   "outputs": [
    {
     "data": {
      "text/html": [
       "<div>\n",
       "<style scoped>\n",
       "    .dataframe tbody tr th:only-of-type {\n",
       "        vertical-align: middle;\n",
       "    }\n",
       "\n",
       "    .dataframe tbody tr th {\n",
       "        vertical-align: top;\n",
       "    }\n",
       "\n",
       "    .dataframe thead th {\n",
       "        text-align: right;\n",
       "    }\n",
       "</style>\n",
       "<table border=\"1\" class=\"dataframe\">\n",
       "  <thead>\n",
       "    <tr style=\"text-align: right;\">\n",
       "      <th></th>\n",
       "      <th>account_id</th>\n",
       "      <th>order_date</th>\n",
       "      <th>transaction_amount</th>\n",
       "    </tr>\n",
       "  </thead>\n",
       "  <tbody>\n",
       "    <tr>\n",
       "      <th>76</th>\n",
       "      <td>BR_66209644000100</td>\n",
       "      <td>None</td>\n",
       "      <td>NaN</td>\n",
       "    </tr>\n",
       "  </tbody>\n",
       "</table>\n",
       "</div>"
      ],
      "text/plain": [
       "           account_id order_date  transaction_amount\n",
       "76  BR_66209644000100       None                 NaN"
      ]
     },
     "execution_count": 36,
     "metadata": {},
     "output_type": "execute_result"
    }
   ],
   "source": [
    "missing_orders[missing_orders[\"account_id\"] == \"BR_66209644000100\"]"
   ]
  },
  {
   "cell_type": "code",
   "execution_count": 32,
   "id": "443b5946-7e77-490d-8260-5742413a6c32",
   "metadata": {},
   "outputs": [],
   "source": [
    "# More than one order in a day? "
   ]
  },
  {
   "cell_type": "code",
   "execution_count": 14,
   "id": "dd4372f7-0465-4cfc-a284-cd5e7e5b0706",
   "metadata": {},
   "outputs": [
    {
     "data": {
      "text/plain": [
       "account_id\n",
       "BR_14517343000132    343\n",
       "BR_37136488000199    296\n",
       "BR_69300631268       290\n",
       "BR_38438376000155    288\n",
       "BR_10459684000148    259\n",
       "BR_30179280000108    249\n",
       "BR_36662317000130    229\n",
       "BR_17481882000157    210\n",
       "BR_35669961000178    196\n",
       "BR_49019136000302    195\n",
       "BR_39365048000139    195\n",
       "BR_71530975115       194\n",
       "BR_36924114000175    186\n",
       "BR_15356879679       186\n",
       "BR_87760419000120    183\n",
       "BR_33444366000109    183\n",
       "BR_37887177000161    183\n",
       "BR_63576910204       179\n",
       "BR_33821457000116    179\n",
       "BR_11315152000108    178\n",
       "Name: count, dtype: int64"
      ]
     },
     "execution_count": 14,
     "metadata": {},
     "output_type": "execute_result"
    }
   ],
   "source": [
    "missing_orders[\"account_id\"].value_counts().nlargest(10)"
   ]
  },
  {
   "cell_type": "code",
   "execution_count": 17,
   "id": "814cc470-e6f3-492f-a1c4-3af32569e63e",
   "metadata": {},
   "outputs": [],
   "source": [
    "missing_orders[missing_orders[\"account_id\"] == \"BR_14517343000132\"].to_csv(\"../datasets/BR_14517343000132.csv\",index=None)"
   ]
  },
  {
   "cell_type": "code",
   "execution_count": 19,
   "id": "8ca716a9-9646-4da6-a803-abbc92dc4e5d",
   "metadata": {},
   "outputs": [],
   "source": [
    "# Is there user with partially null on order_date or transaction amount? "
   ]
  },
  {
   "cell_type": "code",
   "execution_count": 28,
   "id": "9c0d4a80-7391-4944-8a20-ab47a16058cf",
   "metadata": {},
   "outputs": [],
   "source": [
    "result = find_users_with_partial_null(missing_orders, 'account_id', 'order_date')"
   ]
  },
  {
   "cell_type": "code",
   "execution_count": 29,
   "id": "c9031a3c-4a05-439f-989a-876762936cda",
   "metadata": {},
   "outputs": [],
   "source": [
    "if result:\n",
    "    print(result)"
   ]
  },
  {
   "cell_type": "code",
   "execution_count": 30,
   "id": "070658e6-df20-4264-b7d9-1c7a1c7baecd",
   "metadata": {},
   "outputs": [],
   "source": [
    "result = find_users_with_partial_null(missing_orders, 'account_id', 'transaction_amount')"
   ]
  },
  {
   "cell_type": "code",
   "execution_count": 31,
   "id": "de2c2c95-4f1a-4beb-a537-b867a7c8c899",
   "metadata": {},
   "outputs": [],
   "source": [
    "if result:\n",
    "    print(result)"
   ]
  },
  {
   "cell_type": "code",
   "execution_count": 37,
   "id": "8e49f4e7-e449-4831-8fc7-65a9f2ad3987",
   "metadata": {},
   "outputs": [],
   "source": [
    "# Every nan only occurs one time? "
   ]
  },
  {
   "cell_type": "code",
   "execution_count": 38,
   "id": "85927e4c-a195-471c-9df8-88192ee4ed4b",
   "metadata": {},
   "outputs": [
    {
     "data": {
      "text/plain": [
       "account_id\n",
       "BR_66209644000100    1\n",
       "BR_81428359400       1\n",
       "BR_53524195334       1\n",
       "BR_31226313000196    1\n",
       "BR_18778783755       1\n",
       "BR_03256996400       1\n",
       "BR_01189928485       1\n",
       "BR_28653131000197    1\n",
       "BR_08044981000180    1\n",
       "BR_03703808608       1\n",
       "Name: count, dtype: int64"
      ]
     },
     "execution_count": 38,
     "metadata": {},
     "output_type": "execute_result"
    }
   ],
   "source": [
    "missing_orders[missing_orders[\"transaction_amount\"].isna()][\"account_id\"].value_counts().nlargest(10)"
   ]
  },
  {
   "cell_type": "code",
   "execution_count": null,
   "id": "80ab7808-69c3-4582-8718-1097b138f7d8",
   "metadata": {},
   "outputs": [],
   "source": []
  }
 ],
 "metadata": {
  "kernelspec": {
   "display_name": "Python 3 (ipykernel)",
   "language": "python",
   "name": "python3"
  },
  "language_info": {
   "codemirror_mode": {
    "name": "ipython",
    "version": 3
   },
   "file_extension": ".py",
   "mimetype": "text/x-python",
   "name": "python",
   "nbconvert_exporter": "python",
   "pygments_lexer": "ipython3",
   "version": "3.11.9"
  }
 },
 "nbformat": 4,
 "nbformat_minor": 5
}
